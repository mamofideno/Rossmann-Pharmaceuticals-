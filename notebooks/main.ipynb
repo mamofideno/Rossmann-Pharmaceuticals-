{
 "cells": [
  {
   "cell_type": "code",
   "execution_count": 1,
   "metadata": {},
   "outputs": [],
   "source": [
    "import os\n",
    "import sys\n",
    "root_path = os.path.abspath('..')\n",
    "if root_path not in sys.path:\n",
    "    sys.path.insert(0, root_path)\n",
    "script_path=os.path.abspath(os.path.join('..', 'scripts'))\n",
    "if script_path not in sys.path:\n",
    "    sys.path.append(script_path)"
   ]
  },
  {
   "cell_type": "markdown",
   "metadata": {},
   "source": [
    "load Data sets"
   ]
  },
  {
   "cell_type": "code",
   "execution_count": 2,
   "metadata": {},
   "outputs": [
    {
     "ename": "TypeError",
     "evalue": "LoadData.load() takes 0 positional arguments but 1 was given",
     "output_type": "error",
     "traceback": [
      "\u001b[1;31m---------------------------------------------------------------------------\u001b[0m",
      "\u001b[1;31mTypeError\u001b[0m                                 Traceback (most recent call last)",
      "Cell \u001b[1;32mIn[2], line 3\u001b[0m\n\u001b[0;32m      1\u001b[0m \u001b[38;5;28;01mfrom\u001b[39;00m \u001b[38;5;21;01mscripts\u001b[39;00m\u001b[38;5;21;01m.\u001b[39;00m\u001b[38;5;21;01mload_data\u001b[39;00m \u001b[38;5;28;01mimport\u001b[39;00m LoadData\n\u001b[0;32m      2\u001b[0m traindataloader\u001b[38;5;241m=\u001b[39mLoadData(\u001b[38;5;124m\"\u001b[39m\u001b[38;5;124m../Data/train.csv\u001b[39m\u001b[38;5;124m\"\u001b[39m)\n\u001b[1;32m----> 3\u001b[0m traindata\u001b[38;5;241m=\u001b[39m\u001b[43mtraindataloader\u001b[49m\u001b[38;5;241;43m.\u001b[39;49m\u001b[43mload\u001b[49m\u001b[43m(\u001b[49m\u001b[43m)\u001b[49m\n\u001b[0;32m      4\u001b[0m testdataloader\u001b[38;5;241m=\u001b[39mLoadData(\u001b[38;5;124m\"\u001b[39m\u001b[38;5;124m../Data/test.csv\u001b[39m\u001b[38;5;124m\"\u001b[39m)\n\u001b[0;32m      5\u001b[0m testdata\u001b[38;5;241m=\u001b[39mtraindataloader\u001b[38;5;241m.\u001b[39mload()\n",
      "\u001b[1;31mTypeError\u001b[0m: LoadData.load() takes 0 positional arguments but 1 was given"
     ]
    }
   ],
   "source": [
    "from scripts.load_data import LoadData\n",
    "traindataloader=LoadData(\"../Data/train.csv\")\n",
    "traindata=traindataloader.load()\n",
    "testdataloader=LoadData(\"../Data/test.csv\")\n",
    "testdata=traindataloader.load()"
   ]
  }
 ],
 "metadata": {
  "kernelspec": {
   "display_name": "myvenv",
   "language": "python",
   "name": "python3"
  },
  "language_info": {
   "codemirror_mode": {
    "name": "ipython",
    "version": 3
   },
   "file_extension": ".py",
   "mimetype": "text/x-python",
   "name": "python",
   "nbconvert_exporter": "python",
   "pygments_lexer": "ipython3",
   "version": "3.12.6"
  }
 },
 "nbformat": 4,
 "nbformat_minor": 2
}
