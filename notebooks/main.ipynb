{
 "cells": [
  {
   "cell_type": "code",
   "execution_count": 1,
   "metadata": {},
   "outputs": [],
   "source": [
    "import os\n",
    "import sys\n",
    "root_path = os.path.abspath('..')\n",
    "if root_path not in sys.path:\n",
    "    sys.path.insert(0, root_path)\n",
    "script_path=os.path.abspath(os.path.join('..', 'scripts'))\n",
    "if script_path not in sys.path:\n",
    "    sys.path.append(script_path)"
   ]
  },
  {
   "cell_type": "markdown",
   "metadata": {},
   "source": [
    "load Data sets"
   ]
  },
  {
   "cell_type": "code",
   "execution_count": 2,
   "metadata": {},
   "outputs": [
    {
     "name": "stderr",
     "output_type": "stream",
     "text": [
      "d:\\Projects\\10ac\\Rossmann-Pharmaceuticals-\\scripts\\load_data.py:8: DtypeWarning: Columns (7) have mixed types. Specify dtype option on import or set low_memory=False.\n",
      "  data=pd.read_csv(self.path)\n",
      "d:\\Projects\\10ac\\Rossmann-Pharmaceuticals-\\scripts\\load_data.py:8: DtypeWarning: Columns (7) have mixed types. Specify dtype option on import or set low_memory=False.\n",
      "  data=pd.read_csv(self.path)\n"
     ]
    }
   ],
   "source": [
    "from scripts.load_data import LoadData\n",
    "traindataloader=LoadData(\"../Data/train.csv\")\n",
    "traindata=traindataloader.load()\n",
    "testdataloader=LoadData(\"../Data/test.csv\")\n",
    "testdata=traindataloader.load()"
   ]
  },
  {
   "cell_type": "code",
   "execution_count": 3,
   "metadata": {},
   "outputs": [],
   "source": [
    "from scripts.eda import EDA"
   ]
  },
  {
   "cell_type": "code",
   "execution_count": 4,
   "metadata": {},
   "outputs": [
    {
     "data": {
      "text/plain": [
       "Index(['Store', 'DayOfWeek', 'Date', 'Sales', 'Customers', 'Open', 'Promo',\n",
       "       'StateHoliday', 'SchoolHoliday'],\n",
       "      dtype='object')"
      ]
     },
     "execution_count": 4,
     "metadata": {},
     "output_type": "execute_result"
    }
   ],
   "source": [
    "traindata.columns"
   ]
  },
  {
   "cell_type": "code",
   "execution_count": 5,
   "metadata": {},
   "outputs": [
    {
     "name": "stdout",
     "output_type": "stream",
     "text": [
      "Training Promotion Distribution (%)\n",
      " Promo\n",
      "0    61.848548\n",
      "1    38.151452\n",
      "Name: proportion, dtype: float64\n",
      "Test Promotion Distribution (%)\n",
      " Promo\n",
      "0    61.848548\n",
      "1    38.151452\n",
      "Name: proportion, dtype: float64\n"
     ]
    },
    {
     "name": "stderr",
     "output_type": "stream",
     "text": [
      "d:\\Projects\\10ac\\Rossmann-Pharmaceuticals-\\scripts\\eda.py:24: FutureWarning: \n",
      "\n",
      "Passing `palette` without assigning `hue` is deprecated and will be removed in v0.14.0. Assign the `x` variable to `hue` and set `legend=False` for the same effect.\n",
      "\n",
      "  sns.barplot(x=train_promotion_dist.index, y=train_promotion_dist.values, ax=ax[0], palette=\"Blues\")\n",
      "d:\\Projects\\10ac\\Rossmann-Pharmaceuticals-\\scripts\\eda.py:29: FutureWarning: \n",
      "\n",
      "Passing `palette` without assigning `hue` is deprecated and will be removed in v0.14.0. Assign the `x` variable to `hue` and set `legend=False` for the same effect.\n",
      "\n",
      "  sns.barplot(x=test_promotion_dist.index, y=test_promotion_dist.values, ax=ax[1], palette=\"Greens\")\n"
     ]
    },
    {
     "data": {
      "image/png": "[encoded data removed]",
      "text/plain": [
       "<Figure size 1200x600 with 2 Axes>"
      ]
     },
     "metadata": {},
     "output_type": "display_data"
    },
    {
     "name": "stdout",
     "output_type": "stream",
     "text": [
      "Chi-Square Test Statistic: 1017204.76201935\n",
      "P-value: 0.0\n",
      "There is a significant difference in promotion distribution between training and test sets.\n"
     ]
    }
   ],
   "source": [
    "eda = EDA(traindata, testdata, promotion_col='Promo')\n",
    "eda.analyze_promotion_distribution()"
   ]
  },
  {
   "cell_type": "code",
   "execution_count": 6,
   "metadata": {},
   "outputs": [],
   "source": [
    "from scripts.logging import LoggerConfig"
   ]
  },
  {
   "cell_type": "code",
   "execution_count": 9,
   "metadata": {},
   "outputs": [],
   "source": [
    " LoggerConfig.setup_logger()"
   ]
  },
  {
   "cell_type": "code",
   "execution_count": 8,
   "metadata": {},
   "outputs": [],
   "source": [
    "LoggerConfig.log_message(\"check log message\")\n"
   ]
  }
 ],
 "metadata": {
  "kernelspec": {
   "display_name": "myvenv",
   "language": "python",
   "name": "python3"
  },
  "language_info": {
   "codemirror_mode": {
    "name": "ipython",
    "version": 3
   },
   "file_extension": ".py",
   "mimetype": "text/x-python",
   "name": "python",
   "nbconvert_exporter": "python",
   "pygments_lexer": "ipython3",
   "version": "3.12.6"
  }
 },
 "nbformat": 4,
 "nbformat_minor": 2
}
